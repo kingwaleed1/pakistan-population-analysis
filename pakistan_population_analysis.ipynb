{
  "nbformat": 4,
  "nbformat_minor": 0,
  "metadata": {
    "colab": {
      "name": "pakistan-population-analysis.ipynb",
      "provenance": []
    },
    "kernelspec": {
      "name": "python3",
      "display_name": "Python 3"
    },
    "language_info": {
      "name": "python"
    }
  },
  "cells": [
    {
      "cell_type": "code",
      "metadata": {
        "id": "VAFPMWM-zwJ4"
      },
      "source": [
        "import pandas as pd\n",
        "import numpy as np\n",
        "import matplotlib.pyplot as plt\n",
        "from sklearn.preprocessing import  MinMaxScaler"
      ],
      "execution_count": 3,
      "outputs": []
    },
    {
      "cell_type": "code",
      "metadata": {
        "id": "kj_TtQJ-0Cu5"
      },
      "source": [
        "data = pd.read_excel('/content/pakpopdata.xlsx')"
      ],
      "execution_count": 4,
      "outputs": []
    },
    {
      "cell_type": "code",
      "metadata": {
        "colab": {
          "base_uri": "https://localhost:8080/",
          "height": 204
        },
        "id": "93uuT3A60Vjm",
        "outputId": "bd16bef3-0630-4221-ac3c-d6914f40369a"
      },
      "source": [
        "data.head()"
      ],
      "execution_count": 5,
      "outputs": [
        {
          "output_type": "execute_result",
          "data": {
            "text/html": [
              "<div>\n",
              "<style scoped>\n",
              "    .dataframe tbody tr th:only-of-type {\n",
              "        vertical-align: middle;\n",
              "    }\n",
              "\n",
              "    .dataframe tbody tr th {\n",
              "        vertical-align: top;\n",
              "    }\n",
              "\n",
              "    .dataframe thead th {\n",
              "        text-align: right;\n",
              "    }\n",
              "</style>\n",
              "<table border=\"1\" class=\"dataframe\">\n",
              "  <thead>\n",
              "    <tr style=\"text-align: right;\">\n",
              "      <th></th>\n",
              "      <th>city</th>\n",
              "      <th>lat</th>\n",
              "      <th>long</th>\n",
              "      <th>country</th>\n",
              "      <th>code</th>\n",
              "      <th>province</th>\n",
              "      <th>capital</th>\n",
              "      <th>population</th>\n",
              "      <th>pop</th>\n",
              "    </tr>\n",
              "  </thead>\n",
              "  <tbody>\n",
              "    <tr>\n",
              "      <th>0</th>\n",
              "      <td>Karachi</td>\n",
              "      <td>24.8600</td>\n",
              "      <td>67.0100</td>\n",
              "      <td>Pakistan</td>\n",
              "      <td>PK</td>\n",
              "      <td>Sindh</td>\n",
              "      <td>admin</td>\n",
              "      <td>14835000</td>\n",
              "      <td>14835000</td>\n",
              "    </tr>\n",
              "    <tr>\n",
              "      <th>1</th>\n",
              "      <td>Lahore</td>\n",
              "      <td>31.5497</td>\n",
              "      <td>74.3436</td>\n",
              "      <td>Pakistan</td>\n",
              "      <td>PK</td>\n",
              "      <td>Punjab</td>\n",
              "      <td>admin</td>\n",
              "      <td>11021000</td>\n",
              "      <td>11021000</td>\n",
              "    </tr>\n",
              "    <tr>\n",
              "      <th>2</th>\n",
              "      <td>Sialkot City</td>\n",
              "      <td>32.5000</td>\n",
              "      <td>74.5333</td>\n",
              "      <td>Pakistan</td>\n",
              "      <td>PK</td>\n",
              "      <td>Punjab</td>\n",
              "      <td>minor</td>\n",
              "      <td>3893672</td>\n",
              "      <td>3893672</td>\n",
              "    </tr>\n",
              "    <tr>\n",
              "      <th>3</th>\n",
              "      <td>Faisalabad</td>\n",
              "      <td>31.4180</td>\n",
              "      <td>73.0790</td>\n",
              "      <td>Pakistan</td>\n",
              "      <td>PK</td>\n",
              "      <td>Punjab</td>\n",
              "      <td>minor</td>\n",
              "      <td>3203846</td>\n",
              "      <td>3203846</td>\n",
              "    </tr>\n",
              "    <tr>\n",
              "      <th>4</th>\n",
              "      <td>Rawalpindi</td>\n",
              "      <td>33.6007</td>\n",
              "      <td>73.0679</td>\n",
              "      <td>Pakistan</td>\n",
              "      <td>PK</td>\n",
              "      <td>Punjab</td>\n",
              "      <td>minor</td>\n",
              "      <td>2098231</td>\n",
              "      <td>2098231</td>\n",
              "    </tr>\n",
              "  </tbody>\n",
              "</table>\n",
              "</div>"
            ],
            "text/plain": [
              "           city      lat     long  ... capital population       pop\n",
              "0       Karachi  24.8600  67.0100  ...   admin   14835000  14835000\n",
              "1        Lahore  31.5497  74.3436  ...   admin   11021000  11021000\n",
              "2  Sialkot City  32.5000  74.5333  ...   minor    3893672   3893672\n",
              "3    Faisalabad  31.4180  73.0790  ...   minor    3203846   3203846\n",
              "4    Rawalpindi  33.6007  73.0679  ...   minor    2098231   2098231\n",
              "\n",
              "[5 rows x 9 columns]"
            ]
          },
          "metadata": {
            "tags": []
          },
          "execution_count": 5
        }
      ]
    },
    {
      "cell_type": "code",
      "metadata": {
        "id": "k5Ez4Jiz1NBP"
      },
      "source": [
        "scaler = MinMaxScaler()"
      ],
      "execution_count": 6,
      "outputs": []
    },
    {
      "cell_type": "code",
      "metadata": {
        "id": "X07a2FCW1Uql"
      },
      "source": [
        "scaled_pop = scaler.fit_transform(data[[\"population\"]])\n"
      ],
      "execution_count": 7,
      "outputs": []
    },
    {
      "cell_type": "code",
      "metadata": {
        "colab": {
          "base_uri": "https://localhost:8080/"
        },
        "id": "7kDxe7uPdZA8",
        "outputId": "fc1ecff3-be12-46a0-916a-53e7aebe99a4"
      },
      "source": [
        "scaled_pop[9]"
      ],
      "execution_count": 49,
      "outputs": [
        {
          "output_type": "execute_result",
          "data": {
            "text/plain": [
              "array([0.09147008])"
            ]
          },
          "metadata": {
            "tags": []
          },
          "execution_count": 49
        }
      ]
    },
    {
      "cell_type": "code",
      "metadata": {
        "colab": {
          "base_uri": "https://localhost:8080/",
          "height": 383
        },
        "id": "k7U_g_kQ0cT5",
        "outputId": "a8eb1d57-41d5-4305-d5e4-725222ed4cff"
      },
      "source": [
        "plt.scatter(data['lat'], data['long'], s=scaled_pop,alpha=0.9, linewidths=8, c=np.log10(data['pop']), cmap= \"cool\",marker=\"*\")\n",
        "plt.axis(aspect='equal')\n",
        "plt.xlabel('Longitude')\n",
        "plt.ylabel('Latitude')\n",
        "plt.title(\"Pakistan's Population Analysis\" )\n",
        "plt.colorbar(label='log$_{10}$(pop)')\n",
        "plt.legend(scatterpoints=1, frameon=False, labelspacing=1, title='City Population')\n",
        "\n",
        "\n",
        "\n",
        "\n"
      ],
      "execution_count": 50,
      "outputs": [
        {
          "output_type": "stream",
          "text": [
            "/usr/local/lib/python3.7/dist-packages/ipykernel_launcher.py:2: MatplotlibDeprecationWarning: Passing unsupported keyword arguments to axis() will raise a TypeError in 3.3.\n",
            "  \n",
            "No handles with labels found to put in legend.\n"
          ],
          "name": "stderr"
        },
        {
          "output_type": "execute_result",
          "data": {
            "text/plain": [
              "<matplotlib.legend.Legend at 0x7fd0b2ceb990>"
            ]
          },
          "metadata": {
            "tags": []
          },
          "execution_count": 50
        },
        {
          "output_type": "display_data",
          "data": {
            "image/png": "[encoded data removed]",
            "text/plain": [
              "<Figure size 432x288 with 2 Axes>"
            ]
          },
          "metadata": {
            "tags": [],
            "needs_background": "light"
          }
        }
      ]
    },
    {
      "cell_type": "code",
      "metadata": {
        "id": "q9UCcypO06_y"
      },
      "source": [
        "scaled_pop"
      ],
      "execution_count": 9,
      "outputs": []
    },
    {
      "cell_type": "code",
      "metadata": {
        "id": "D9Wb7fGQ3Mor"
      },
      "source": [
        ""
      ],
      "execution_count": 9,
      "outputs": []
    }
  ]
}